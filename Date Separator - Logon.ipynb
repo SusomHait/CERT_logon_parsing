{
 "cells": [
  {
   "cell_type": "code",
   "execution_count": 28,
   "id": "c0c1367d",
   "metadata": {},
   "outputs": [],
   "source": [
    "import pandas as pd\n",
    "import os\n",
    "\n",
    "from datetime import datetime"
   ]
  },
  {
   "cell_type": "code",
   "execution_count": 3,
   "id": "39ba566d",
   "metadata": {},
   "outputs": [],
   "source": [
    "#read the raw data\n",
    "df = pd.read_csv('logon.csv', usecols = ['user', 'date', 'pc', 'activity'])"
   ]
  },
  {
   "cell_type": "code",
   "execution_count": 31,
   "id": "d05f59ca",
   "metadata": {},
   "outputs": [],
   "source": [
    "#necessary functions\n",
    "\n",
    "#return just date\n",
    "def split_date(datetime):\n",
    "    return datetime.date()\n",
    "\n",
    "#return just time\n",
    "def split_time(datetime):\n",
    "    return datetime.time()\n",
    "\n",
    "#determine if actions are performed in working hours\n",
    "def is_working_hours(timestamp):\n",
    "    time = timestamp.time()\n",
    "    \n",
    "    start = datetime.strptime('09:00:00', '%H:%M:%S').time()\n",
    "    end = datetime.strptime('17:00:00', '%H:%M:%S').time()\n",
    "    \n",
    "    # Check if it's a weekday (Monday: 0, Tuesday: 1, ..., Friday: 4)\n",
    "    if timestamp.weekday() in range(0, 5):\n",
    "        if (time >= start and time <= end): # Check if it's 9 AM or later\n",
    "            return \"Work Hours\"\n",
    "        return \"Off Hours\"\n",
    "    else:\n",
    "        return 'Weekend'  # It's not a weekday"
   ]
  },
  {
   "cell_type": "code",
   "execution_count": 32,
   "id": "b976afdb",
   "metadata": {},
   "outputs": [],
   "source": [
    "#turn date into datetime\n",
    "df['date'] = pd.to_datetime(df.date, format = '%m/%d/%Y %H:%M:%S')\n",
    "\n",
    "#split dates and times\n",
    "df['only_date'] = df['date'].apply(split_date)\n",
    "df['only_time'] = df['date'].apply(split_time)\n",
    "\n",
    "df['WorkingHours'] = df.date.apply(is_working_hours)"
   ]
  },
  {
   "cell_type": "code",
   "execution_count": 34,
   "id": "42153827",
   "metadata": {},
   "outputs": [],
   "source": [
    "#group dataframe by date\n",
    "grouped = df.groupby('only_date')"
   ]
  },
  {
   "cell_type": "code",
   "execution_count": 35,
   "id": "95370913",
   "metadata": {},
   "outputs": [],
   "source": [
    "#hold the file names to make a log file later\n",
    "file_names = []\n",
    "\n",
    "#create separate csv's for each date\n",
    "for date, group in grouped:\n",
    "    current_file_name = f'logon-{date}.csv'\n",
    "    group.to_csv(f'logon_data/{current_file_name}', index = False)\n",
    "    file_names.append(current_file_name)"
   ]
  },
  {
   "cell_type": "code",
   "execution_count": 25,
   "id": "6959f970",
   "metadata": {},
   "outputs": [],
   "source": [
    "#create a log file with the file names to make access easier\n",
    "with open('logon_data/logon_files.log', 'w') as file:\n",
    "    for name in file_names:\n",
    "        file.write(name + '\\n')"
   ]
  }
 ],
 "metadata": {
  "kernelspec": {
   "display_name": "Python 3 (ipykernel)",
   "language": "python",
   "name": "python3"
  },
  "language_info": {
   "codemirror_mode": {
    "name": "ipython",
    "version": 3
   },
   "file_extension": ".py",
   "mimetype": "text/x-python",
   "name": "python",
   "nbconvert_exporter": "python",
   "pygments_lexer": "ipython3",
   "version": "3.10.9"
  }
 },
 "nbformat": 4,
 "nbformat_minor": 5
}
