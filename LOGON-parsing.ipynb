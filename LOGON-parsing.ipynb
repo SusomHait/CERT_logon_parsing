{
 "cells": [
  {
   "cell_type": "code",
   "execution_count": 1,
   "id": "2ec3ecf9",
   "metadata": {},
   "outputs": [],
   "source": [
    "#necessary imports\n",
    "import pandas as pd\n",
    "import numpy as np\n",
    "\n",
    "from datetime import datetime"
   ]
  },
  {
   "cell_type": "code",
   "execution_count": 2,
   "id": "ce49df4a",
   "metadata": {},
   "outputs": [],
   "source": [
    "#create dataframe to hold final values\n",
    "pd.set_option('display.max_rows', None)\n",
    "colnames = ['user', 'date', 'numlogonDay', 'numlogonNight','numlogoffDay','numlogoffNight', 'numPClogonDay', 'numPClogonNight', 'numPClogoffDay', 'numPClogoffNight', 'onoffNotsameDay', 'onoffNotsameNight']\n",
    "results = pd.DataFrame(columns = colnames)"
   ]
  },
  {
   "cell_type": "code",
   "execution_count": 3,
   "id": "c2797fdb",
   "metadata": {},
   "outputs": [],
   "source": [
    "#file holding separated date file names\n",
    "file = open('logon_data/logon_files.log', 'r')\n",
    "\n",
    "#loop through date files\n",
    "while True:\n",
    "    line = file.readline().strip()\n",
    "    \n",
    "    #if there is no line, leave the loop\n",
    "    if not line:\n",
    "        break\n",
    "    \n",
    "    #read the needed files\n",
    "    df = pd.read_csv(f'logon_data/{line}')\n",
    "    current_date = df.only_date.iloc[0]\n",
    "    \n",
    "    #group the data by user\n",
    "    grouped = df.groupby('user')\n",
    "    \n",
    "    #loop through the grouped data\n",
    "    for user, group in grouped:\n",
    "        \n",
    "        #parse needed data\n",
    "        attributes = {\n",
    "            'user' : user,\n",
    "            'date' : current_date,\n",
    "            'numlogonDay' : len(group.loc[(group.WorkingHours == 'Work Hours') & (group.activity == 'Logon')]),\n",
    "            'numlogonNight' : len(group.loc[(group.WorkingHours == 'Off Hours') & (group.activity == 'Logon')]),\n",
    "            'numlogoffDay' : len(group.loc[(group.WorkingHours == 'Work Hours') & (group.activity == 'Logoff')]),\n",
    "            'numlogoffNight' : len(group.loc[(group.WorkingHours == 'Off Hours') & (group.activity == 'Logoff')]),\n",
    "            'numPClogonDay' : len(group.loc[(group.WorkingHours == 'Work Hours') & (group.activity == 'Logon')].pc.unique()),\n",
    "            'numPClogonNight' : len(group.loc[(group.WorkingHours == 'Off Hours') & (group.activity == 'Logon')].pc.unique()),\n",
    "            'numPClogoffDay' : len(group.loc[(group.WorkingHours == 'Work Hours') & (group.activity == 'Logoff')].pc.unique()),\n",
    "            'numPClogoffNight' : len(group.loc[(group.WorkingHours == 'Off Hours') & (group.activity == 'Logoff')].pc.unique()),\n",
    "            'onoffNotsameDay' : len(group.loc[(group.activity == 'Logon') & (group.WorkingHours == 'Work Hours')]) - len(group.loc[(group.activity == 'Logoff') & (group.WorkingHours == 'Work Hours')]), \n",
    "            'onoffNotsameNight' : len(group[(group.activity == 'Logon') & (group.WorkingHours == 'Off Hours')]) - len(group[(group.activity == 'Logoff') & (group.WorkingHours == 'Off Hours')]) \n",
    "        }\n",
    "    \n",
    "        #add the data to the dataframe\n",
    "        results.loc[len(results)] = [attributes[column] for column in colnames]"
   ]
  },
  {
   "cell_type": "code",
   "execution_count": 5,
   "id": "5479c4c3",
   "metadata": {},
   "outputs": [],
   "source": [
    "#apply abs to the last two columns\n",
    "results['onoffNotsameDay'] = results['onoffNotsameDay'].abs()\n",
    "results['onoffNotsameNight'] = results['onoffNotsameNight'].abs()"
   ]
  },
  {
   "cell_type": "code",
   "execution_count": 6,
   "id": "6e30c170",
   "metadata": {},
   "outputs": [],
   "source": [
    "#store the results\n",
    "results.to_csv('new_parsed_logon.csv')"
   ]
  },
  {
   "cell_type": "code",
   "execution_count": null,
   "id": "07469472",
   "metadata": {},
   "outputs": [],
   "source": []
  }
 ],
 "metadata": {
  "kernelspec": {
   "display_name": "Python 3 (ipykernel)",
   "language": "python",
   "name": "python3"
  },
  "language_info": {
   "codemirror_mode": {
    "name": "ipython",
    "version": 3
   },
   "file_extension": ".py",
   "mimetype": "text/x-python",
   "name": "python",
   "nbconvert_exporter": "python",
   "pygments_lexer": "ipython3",
   "version": "3.10.9"
  }
 },
 "nbformat": 4,
 "nbformat_minor": 5
}
